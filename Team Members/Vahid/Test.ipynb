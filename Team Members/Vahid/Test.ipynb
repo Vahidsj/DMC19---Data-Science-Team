{
 "cells": [
  {
   "cell_type": "code",
   "execution_count": 2,
   "metadata": {},
   "outputs": [],
   "source": [
    "import numpy as np\n",
    "import pandas as pd\n",
    "from sklearn.model_selection import train_test_split\n",
    "from sklearn.ensemble import RandomForestClassifier\n",
    "from sklearn.metrics import confusion_matrix\n",
    "from sklearn.linear_model import LinearRegression\n",
    "import matplotlib.pyplot as plt\n",
    "from sklearn.svm import SVC # \"Support vector classifier\"\n",
    "\n",
    "%matplotlib inline\n",
    "\n",
    "data =  pd.read_csv('train.csv')\n",
    "y = data['fraud']\n",
    "feature_names = data.columns#[i for i in data.columns]\n",
    "feature_names = np.delete(feature_names, -1, axis=0)\n",
    "X = data[feature_names]"
   ]
  },
  {
   "cell_type": "code",
   "execution_count": 8,
   "metadata": {},
   "outputs": [
    {
     "data": {
      "text/plain": [
       "array([[2.7514231e-02, 1.0540000e+03],\n",
       "       [1.2962963e-01, 1.0800000e+02],\n",
       "       [8.5751980e-03, 1.5160000e+03],\n",
       "       ...,\n",
       "       [9.4936709e-02, 3.1600000e+02],\n",
       "       [3.5036496e-02, 6.8500000e+02],\n",
       "       [1.6666667e-02, 1.1400000e+03]])"
      ]
     },
     "execution_count": 8,
     "metadata": {},
     "output_type": "execute_result"
    }
   ],
   "source": [
    "newX=X[['scannedLineItemsPerSecond','totalScanTimeInSeconds']]\n",
    "newX.values"
   ]
  },
  {
   "cell_type": "code",
   "execution_count": null,
   "metadata": {},
   "outputs": [],
   "source": [
    "#SVC\n",
    "def plotDecisionFunction(model, ax=None):\n",
    "\n",
    "   if ax is None:\n",
    "       ax = plt.gca()\n",
    "   xlim = ax.get_xlim()\n",
    "   ylim = ax.get_ylim()\n",
    "\n",
    "   x = np.linspace(xlim[0], xlim[1], 30)\n",
    "   y = np.linspace(ylim[0], ylim[1], 30)\n",
    "   X,Y = np.meshgrid(x, y)\n",
    "   xy = np.vstack([X.ravel(), Y.ravel()]).T\n",
    "   P = model.decision_function(xy).reshape(X.shape)\n",
    "\n",
    "   # Plot decision boundary and margins\n",
    "   ax.contour(X, Y, P, colors='k',\n",
    "              levels=[-1, 0, 1], alpha=0.5,\n",
    "              linestyles=['--', '-', '--'])\n",
    "\n",
    "   # Plot support vectors\n",
    "   ax.scatter(model.support_vectors_[:, 0],\n",
    "                  model.support_vectors_[:, 1],\n",
    "                  s=30, linewidth=1, facecolors='none', edgecolor='red');\n",
    "   ax.set_xlim(xlim)\n",
    "   ax.set_ylim(ylim)"
   ]
  },
  {
   "cell_type": "code",
   "execution_count": null,
   "metadata": {},
   "outputs": [],
   "source": [
    "#from sklearn.svm import SVC # \"Support vector classifier\"\n",
    "from sklearn.svm import SVC\n",
    "\n",
    "model = SVC(kernel='linear', C=1e10)\n",
    "#model = SVC(kernel='linear', C=1e10)\n",
    "model.fit(newX.values, y)\n",
    "plt.scatter(newX.values[:, 0], newX.values[:, 1], c=y, s=15, cmap='viridis')\n",
    "plotDecisionFunction(model);"
   ]
  },
  {
   "cell_type": "code",
   "execution_count": null,
   "metadata": {},
   "outputs": [],
   "source": []
  }
 ],
 "metadata": {
  "kernelspec": {
   "display_name": "Python 3",
   "language": "python",
   "name": "python3"
  },
  "language_info": {
   "codemirror_mode": {
    "name": "ipython",
    "version": 3
   },
   "file_extension": ".py",
   "mimetype": "text/x-python",
   "name": "python",
   "nbconvert_exporter": "python",
   "pygments_lexer": "ipython3",
   "version": "3.6.5"
  }
 },
 "nbformat": 4,
 "nbformat_minor": 2
}
